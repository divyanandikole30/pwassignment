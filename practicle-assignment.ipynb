{
  "nbformat": 4,
  "nbformat_minor": 0,
  "metadata": {
    "colab": {
      "provenance": []
    },
    "kernelspec": {
      "name": "python3",
      "display_name": "Python 3"
    },
    "language_info": {
      "name": "python"
    }
  },
  "cells": [
    {
      "cell_type": "code",
      "source": [
        "#1.3\n",
        "#do the following operations in this list;\n",
        "#a) add an element \"freedom_fighter\" in this list at the 0th index.\n",
        "name = [\"Mohan\", \"dash\", \"karam\", \"chandra\",\"gandhi\",\"Bapu\"]\n",
        "name.insert(0,\"freedom_fighter\")\n",
        "print(name)"
      ],
      "metadata": {
        "colab": {
          "base_uri": "https://localhost:8080/"
        },
        "id": "ndUzgO_0trzX",
        "outputId": "6e75cc8e-95f7-4f6f-bc3b-84cfa3c84af5"
      },
      "execution_count": 3,
      "outputs": [
        {
          "output_type": "stream",
          "name": "stdout",
          "text": [
            "['freedom_fighter', 'Mohan', 'dash', 'karam', 'chandra', 'gandhi', 'Bapu']\n"
          ]
        }
      ]
    },
    {
      "cell_type": "code",
      "source": [
        "name = [\"freedomFighter\",\"Bapuji\",\"MOhan\" \"dash\", \"karam\",\"chandra\",\"gandhi\"]\n",
        "length1=len((name[-len(name)+1:-1:2]))\n",
        "length2=len((name[-len(name)+1:-1]))\n",
        "print(length1+length2)"
      ],
      "metadata": {
        "colab": {
          "base_uri": "https://localhost:8080/"
        },
        "id": "fGQys_CWtr2v",
        "outputId": "c328939e-809f-43cd-dc6d-f51c067a6963"
      },
      "execution_count": 5,
      "outputs": [
        {
          "output_type": "stream",
          "name": "stdout",
          "text": [
            "6\n"
          ]
        }
      ]
    },
    {
      "cell_type": "code",
      "source": [
        "#add two more elements in the name [\"NetaJi\",\"Bose\"] at the end of the list.\n",
        "name.append(\"NetaJi\")\n",
        "name.append(\"Bose\")\n",
        "print(name)"
      ],
      "metadata": {
        "colab": {
          "base_uri": "https://localhost:8080/"
        },
        "id": "Se2bOMPmtr6X",
        "outputId": "bb49a071-44ba-42b0-f722-0dc7dd5f5c6d"
      },
      "execution_count": 6,
      "outputs": [
        {
          "output_type": "stream",
          "name": "stdout",
          "text": [
            "['freedomFighter', 'Bapuji', 'MOhandash', 'karam', 'chandra', 'gandhi', 'NetaJi', 'Bose']\n"
          ]
        }
      ]
    },
    {
      "cell_type": "code",
      "source": [
        "#what will be the value of temp:\n",
        "name = [\"Bapuji\", \"dash\", \"karam\", \"chandra\",\"gandi\",\"Mohan\"]\n",
        "temp=name[-1]\n",
        "name[-1]=name[0]\n",
        "name[0]=temp\n",
        "print(temp)"
      ],
      "metadata": {
        "colab": {
          "base_uri": "https://localhost:8080/"
        },
        "id": "s-z45MSPtr9y",
        "outputId": "44ceb99c-8e6e-4dd7-8063-1a86360b77c6"
      },
      "execution_count": 1,
      "outputs": [
        {
          "output_type": "stream",
          "name": "stdout",
          "text": [
            "Mohan\n"
          ]
        }
      ]
    },
    {
      "cell_type": "code",
      "source": [
        "#1.4.Find the output of the following.\n",
        "animal = ['Human','cat','mat','cat','rat','Human', 'Lion']\n",
        "print(animal.count('Human'))\n",
        "print(animal.index('rat'))\n",
        "print(len(animal))"
      ],
      "metadata": {
        "colab": {
          "base_uri": "https://localhost:8080/"
        },
        "id": "GMVB3vd0tH89",
        "outputId": "a9e35631-9108-4bd3-a52b-4912b178bab8"
      },
      "execution_count": 2,
      "outputs": [
        {
          "output_type": "stream",
          "name": "stdout",
          "text": [
            "2\n",
            "4\n",
            "7\n"
          ]
        }
      ]
    },
    {
      "cell_type": "code",
      "source": [
        "#1.5.\n",
        "tuple1=(10,20,\"Apple\",3.4,'a',[\"master\",\"ji\"],(\"sita\",\"geeta\",22),[{\"roll_no\":1},{\"name\":\"Navneet\"}])\n",
        "print(len(tuple1))\n"
      ],
      "metadata": {
        "colab": {
          "base_uri": "https://localhost:8080/"
        },
        "id": "NBX7M0e1s1Li",
        "outputId": "67f9f570-8cdc-4253-fc1c-16739f7c78cd"
      },
      "execution_count": 5,
      "outputs": [
        {
          "output_type": "stream",
          "name": "stdout",
          "text": [
            "8\n"
          ]
        }
      ]
    },
    {
      "cell_type": "code",
      "source": [
        "#b)\n",
        "print(tuple1[-1][-1][\"name\"])"
      ],
      "metadata": {
        "colab": {
          "base_uri": "https://localhost:8080/"
        },
        "id": "__-zvA6srqfh",
        "outputId": "c276075b-f88e-47c1-b31e-4be5c762b1e6"
      },
      "execution_count": 6,
      "outputs": [
        {
          "output_type": "stream",
          "name": "stdout",
          "text": [
            "Navneet\n"
          ]
        }
      ]
    },
    {
      "cell_type": "code",
      "source": [
        "#c)fetch the value of roll_no from this tuple.\n",
        "print(tuple1[-1][-2][\"roll_no\"])"
      ],
      "metadata": {
        "colab": {
          "base_uri": "https://localhost:8080/"
        },
        "id": "pa-qsOTXrqik",
        "outputId": "1bdba4fc-5156-4a37-f485-e76b949cd9d0"
      },
      "execution_count": 11,
      "outputs": [
        {
          "output_type": "stream",
          "name": "stdout",
          "text": [
            "1\n"
          ]
        }
      ]
    },
    {
      "cell_type": "code",
      "source": [
        "#d)\n",
        "print(tuple1[-3][1])"
      ],
      "metadata": {
        "colab": {
          "base_uri": "https://localhost:8080/"
        },
        "id": "w8poi3JVrql8",
        "outputId": "43ed6ff1-2e90-458d-db89-1406c5fdba47"
      },
      "execution_count": 12,
      "outputs": [
        {
          "output_type": "stream",
          "name": "stdout",
          "text": [
            "ji\n"
          ]
        }
      ]
    },
    {
      "cell_type": "code",
      "source": [
        "#e)fetch the element \"22\" from this tuple\n",
        "print(tuple1[-2][2])"
      ],
      "metadata": {
        "colab": {
          "base_uri": "https://localhost:8080/"
        },
        "id": "bFJYkQK5Y6jW",
        "outputId": "76f5ee72-a84f-4647-a314-a1837a74f7d4"
      },
      "execution_count": 13,
      "outputs": [
        {
          "output_type": "stream",
          "name": "stdout",
          "text": [
            "22\n"
          ]
        }
      ]
    },
    {
      "cell_type": "code",
      "source": [
        "#1.6. Write a program to display the appropriate message as per the color of signal(RED-Stop/Yellow-Stay/\n",
        "#Green-Go) at the road crossing.\n",
        "col=input()\n",
        "if col==\"RED\":\n",
        "    print(\"STOP\")\n",
        "elif col==\"YELLOW\":\n",
        "    print(\"STAY\")\n",
        "elif col==\"GREEN\":\n",
        "    print(\"GO\")\n",
        "else:\n",
        "    print(\"INVALID\")"
      ],
      "metadata": {
        "colab": {
          "base_uri": "https://localhost:8080/"
        },
        "id": "3gnXNl4lY6mK",
        "outputId": "dd9cbb93-79a6-46ea-b58b-bbfc9a1bda22"
      },
      "execution_count": 14,
      "outputs": [
        {
          "output_type": "stream",
          "name": "stdout",
          "text": [
            "RED\n",
            "STOP\n"
          ]
        }
      ]
    },
    {
      "cell_type": "code",
      "source": [
        "#1.7. Write a program to create a simple calculator performing only four basic operations(+,-,/,*)\n",
        "a=int(input())\n",
        "b=int(input())\n",
        "char=input()\n",
        "if char==\"+\":\n",
        "    print(a+b)\n",
        "elif char==\"-\":\n",
        "    print(a-b)\n",
        "\n",
        "elif char==\"*\":\n",
        "    print(a*b)\n",
        "\n",
        "elif char==\"/\":\n",
        "    print(a/b)\n",
        "\n",
        "else:\n",
        "    print(\"INVALID\")"
      ],
      "metadata": {
        "colab": {
          "base_uri": "https://localhost:8080/"
        },
        "id": "LSiOKoXBLWYE",
        "outputId": "d87d1457-c0f9-4631-9080-253d2e7b580f"
      },
      "execution_count": 16,
      "outputs": [
        {
          "output_type": "stream",
          "name": "stdout",
          "text": [
            "3\n",
            "6\n",
            "+\n",
            "9\n"
          ]
        }
      ]
    },
    {
      "cell_type": "code",
      "source": [
        "#1.9. Write a program to find the factors of a whole number using a while loop.\n",
        "num=int(input())\n",
        "i=1\n",
        "while i<=num:\n",
        "    if num%i==0:\n",
        "        print(i)\n",
        "    i+=1"
      ],
      "metadata": {
        "colab": {
          "base_uri": "https://localhost:8080/"
        },
        "id": "LPDmcB5PLWeB",
        "outputId": "eaac1100-7299-42ca-f64f-239abddaf34c"
      },
      "execution_count": 19,
      "outputs": [
        {
          "output_type": "stream",
          "name": "stdout",
          "text": [
            "20\n",
            "1\n",
            "2\n",
            "4\n",
            "5\n",
            "10\n",
            "20\n"
          ]
        }
      ]
    },
    {
      "cell_type": "code",
      "source": [
        "#1.10. Write a program to find the sum of all the positive numbers entered by the user. As soon as the user\n",
        "\n",
        "sum=0\n",
        "while True:\n",
        "    num=int(input())\n",
        "    if num<0:\n",
        "        break\n",
        "    sum+=num\n",
        "print(sum)"
      ],
      "metadata": {
        "colab": {
          "base_uri": "https://localhost:8080/"
        },
        "id": "MeRqsAzHLWgu",
        "outputId": "5d12f8f2-9190-4125-dfc9-5cf92f09796d"
      },
      "execution_count": 20,
      "outputs": [
        {
          "output_type": "stream",
          "name": "stdout",
          "text": [
            "3\n",
            "4\n",
            "5\n",
            "-1\n",
            "12\n"
          ]
        }
      ]
    },
    {
      "cell_type": "code",
      "source": [
        "#1.11. Write a program to find prime numbers between 2 to 100 using nested for loops.\n",
        "for i in range(2,101):\n",
        "    for j in range(2,i):\n",
        "        if i%j==0:\n",
        "            break\n",
        "    else:\n",
        "        print(i)"
      ],
      "metadata": {
        "colab": {
          "base_uri": "https://localhost:8080/"
        },
        "id": "5Y5_8xNoMp_z",
        "outputId": "45f63efd-bb55-4a97-c41d-292d84456336"
      },
      "execution_count": 21,
      "outputs": [
        {
          "output_type": "stream",
          "name": "stdout",
          "text": [
            "2\n",
            "3\n",
            "5\n",
            "7\n",
            "11\n",
            "13\n",
            "17\n",
            "19\n",
            "23\n",
            "29\n",
            "31\n",
            "37\n",
            "41\n",
            "43\n",
            "47\n",
            "53\n",
            "59\n",
            "61\n",
            "67\n",
            "71\n",
            "73\n",
            "79\n",
            "83\n",
            "89\n",
            "97\n"
          ]
        }
      ]
    },
    {
      "cell_type": "code",
      "source": [
        "#1.12. Write the programs for the followingp\n",
        "#Accept the marks of the student in five major subjects and display the same?\n",
        "#Calculate the sum of the marks of all subjects.Divide the total marks by number of subjects (i.e. 5), calculate\n",
        "#percentage = total marks/5 and display the percentage?\n",
        "#Find the grade of the student as per the following criteria\n",
        "s1=int(input())\n",
        "s2=int(input())\n",
        "\n",
        "s3=int(input())\n",
        "s4=int(input())\n",
        "s5=int(input())\n",
        "\n",
        "print(s1,s2,s3,s4,s5)\n",
        "per=(s1+s2+s3+s4+s5)/5\n",
        "print(per)\n",
        "if per>=85:\n",
        "    print(\"A\")\n",
        "elif per<85 and per>=75:\n",
        "    print(\"B\")\n",
        "elif per<75 and per>=50:\n",
        "    print(\"C\")\n",
        "elif per>30 and per <=50:\n",
        "    print(\"D\")\n",
        "else:\n",
        "    print(\"Reappear7\")"
      ],
      "metadata": {
        "colab": {
          "base_uri": "https://localhost:8080/"
        },
        "id": "oYEsoCJlMqCX",
        "outputId": "c3f49c71-41b5-43bc-eb05-af39a29df5fe"
      },
      "execution_count": 24,
      "outputs": [
        {
          "output_type": "stream",
          "name": "stdout",
          "text": [
            "67\n",
            "89\n",
            "90\n",
            "78\n",
            "89\n",
            "67 89 90 78 89\n",
            "82.6\n",
            "B\n"
          ]
        }
      ]
    },
    {
      "cell_type": "code",
      "source": [
        "#1.13. Write a program for VIBGYOR Spectrum base+ on their Wavelength using.\n",
        "wavelength=int(input())\n",
        "if wavelength>=380 and wavelength<450:\n",
        "    print(\"Violet\")\n",
        "elif wavelength>=450 and wavelength<495:\n",
        "    print(\"Indigo\")\n",
        "elif wavelength>=495 and wavelength<570:\n",
        "    print(\"Blue\")\n",
        "elif wavelength>=570 and wavelength<590:\n",
        "    print(\"Green\")\n",
        "elif wavelength>=590 and wavelength<620:\n",
        "    print(\"Yellow\")\n",
        "elif wavelength>=620 and wavelength<=750:\n",
        "    print(\"Orange\")\n",
        "else:\n",
        "    print(\"Red\")"
      ],
      "metadata": {
        "colab": {
          "base_uri": "https://localhost:8080/"
        },
        "id": "xQ3OhGRwMqF5",
        "outputId": "5a6a9fa3-3702-4f64-cd20-44edd231acf6"
      },
      "execution_count": 25,
      "outputs": [
        {
          "output_type": "stream",
          "name": "stdout",
          "text": [
            "400\n",
            "Violet\n"
          ]
        }
      ]
    },
    {
      "cell_type": "code",
      "source": [
        "#1.14\n",
        "mass_earth = 5.972e24 # Mass of Earth in kilograms\n",
        "mass_moon = 7.34767309e22 # Mass of Moon in kilograms\n",
        "mass_sun = 1.989e30 # Mass of Sun in kilograms\n",
        "distance_earth_sun = 1.496e11 # Average distance between Earth and Sun in meters\n",
        "distance_moon_earth = 3.844e8 # Average distance between Moon and Earth in meters\n",
        "\n",
        "\n",
        "#Calculate the gravitational force between the Earth and the Sun\n",
        "force_earth_sun = (6.67430e-11 * mass_earth * mass_sun)\n",
        "print(force_earth_sun)\n",
        "#Calculate the gravitational force between the Moon and the Earth\n",
        "force_moon_earth = (6.67430e-11 * mass_moon * mass_earth)\n",
        "print(force_moon_earth)\n",
        "#Calculate the gravitational force between the Earth and the Moon\n",
        "force_earth_moon = (6.67430e-11 * mass_earth * mass_moon)\n",
        "print(force_earth_moon)"
      ],
      "metadata": {
        "colab": {
          "base_uri": "https://localhost:8080/"
        },
        "id": "GBrc198nOUP1",
        "outputId": "a61cb357-521c-4609-ac9e-00083a392447"
      },
      "execution_count": 27,
      "outputs": [
        {
          "output_type": "stream",
          "name": "stdout",
          "text": [
            "7.927939108439999e+44\n",
            "2.9287031094139352e+37\n",
            "2.9287031094139357e+37\n"
          ]
        }
      ]
    },
    {
      "cell_type": "code",
      "source": [
        "#2.4. Design and implement a Python program for managing student information using object-oriented\n",
        "#principles. Create a class called `Student` with encapsulated attributes for name, age, and roll number.\n",
        "#Implement getter and setter methods for these attributes. Additionally, provide methods to display student\n",
        "#information and update student details.\n",
        "#Write methods to displ7y student inform7tion 7nd upd7te det7ilsY\n",
        "# Create inst7nces of the `Student` cl7ss 7nd test the implemented function7lity.\n",
        "class Student:\n",
        "    def __init__(self,name,age,roll_no):\n",
        "        self.__name=name\n",
        "        self.__age=age\n",
        "        self.__roll_no=roll_no\n",
        "    def get_name(self):\n",
        "        return self.__name\n",
        "    def set_name(self,name):\n",
        "        self.__name=name\n",
        "\n",
        "    def get_age(self):\n",
        "        return self.__age\n",
        "    def set_age(self,age):\n",
        "        self.__age=age\n",
        "\n",
        "    def get_roll_no(self):\n",
        "        return self.__roll\n",
        "\n",
        "    def set_roll_no(self,roll_no):\n",
        "        self.__roll_no=roll_no\n",
        "    # Method to display student information\n",
        "    def display_info(self):\n",
        "        print(f\"Student Name: {self.__name}\")\n",
        "        print(f\"Age: {self.__age}\")\n",
        "        print(f\"Roll Number: {self.__roll_no}\")\n",
        "\n",
        "    # Method to update student details\n",
        "    def update_details(self, name=None, age=None, roll_number=None):\n",
        "        if name:\n",
        "            self.set_name(name)\n",
        "        if age:\n",
        "            self.set_age(age)\n",
        "        if roll_number:\n",
        "            self.set_roll_no(roll_no)\n",
        "        print(\"Student details updated successfully.\")\n",
        "\n",
        "# Testing the Student class\n",
        "\n",
        "# Creating instances of Student\n",
        "student1 = Student(\"Alice\", 20, \"A001\")\n",
        "student2 = Student(\"Bob\", 22, \"B002\")\n",
        "\n",
        "# Displaying student information\n",
        "print(\"Student 1 Info:\")\n",
        "student1.display_info()\n",
        "\n",
        "print(\"\\nStudent 2 Info:\")\n",
        "student2.display_info()\n",
        "\n",
        "# Updating student details\n",
        "print(\"\\nUpdating Student 1's details...\")\n",
        "student1.update_details(name=\"Alicia\", age=21)\n",
        "\n",
        "# Displaying updated information\n",
        "print(\"\\nUpdated Student 1 Info:\")\n",
        "student1.display_info()"
      ],
      "metadata": {
        "colab": {
          "base_uri": "https://localhost:8080/"
        },
        "id": "nPh02WEROUSs",
        "outputId": "12b6e504-d786-4c15-feb0-32a13fd598d7"
      },
      "execution_count": 29,
      "outputs": [
        {
          "output_type": "stream",
          "name": "stdout",
          "text": [
            "Student 1 Info:\n",
            "Student Name: Alice\n",
            "Age: 20\n",
            "Roll Number: A001\n",
            "\n",
            "Student 2 Info:\n",
            "Student Name: Bob\n",
            "Age: 22\n",
            "Roll Number: B002\n",
            "\n",
            "Updating Student 1's details...\n",
            "Student details updated successfully.\n",
            "\n",
            "Updated Student 1 Info:\n",
            "Student Name: Alicia\n",
            "Age: 21\n",
            "Roll Number: A001\n"
          ]
        }
      ]
    },
    {
      "cell_type": "code",
      "source": [
        "#3.Develop a Python program for managing library resources efficiently. Design a class named `LibraryBook`\n",
        "# with attributes like book name, author, and availability status. Implement methods for borrowing and\n",
        "# returning books while ensuring proper encapsulation of attributes.\n",
        "# Tasks\n",
        "# 3 1. Create the `LibraryBook` class with encapsulated attributesY\n",
        "# 3 2. Implement methods for borrowing and returning books\n",
        "# 3 3. Ensure proper encapsulation to protect book details\n",
        "# 3 4. Test the borrowing and returning functionality with sample data.\n",
        "class LibraryBook:\n",
        "    def __init__(self, book_name, author):\n",
        "        # Encapsulated attributes\n",
        "        self.__book_name = book_name\n",
        "        self.__author = author\n",
        "        self.__is_available = True  # Availability status, default is True (available)\n",
        "\n",
        "    # Getter methods\n",
        "    def get_book_name(self):\n",
        "        return self.__book_name\n",
        "\n",
        "    def get_author(self):\n",
        "        return self.__author\n",
        "\n",
        "    def is_available(self):\n",
        "        return self.__is_available\n",
        "\n",
        "    # Method to borrow a book\n",
        "    def borrow_book(self):\n",
        "        if self.__is_available:\n",
        "            self.__is_available = False\n",
        "            print(f\"Book '{self.__book_name}' borrowed successfully.\")\n",
        "        else:\n",
        "            print(f\"Sorry, the book '{self.__book_name}' is currently unavailable.\")\n",
        "\n",
        "    # Method to return a book\n",
        "    def return_book(self):\n",
        "        if not self.__is_available:\n",
        "            self.__is_available = True\n",
        "            print(f\"Book '{self.__book_name}' returned successfully.\")\n",
        "        else:\n",
        "            print(f\"The book '{self.__book_name}' was not borrowed.\")\n",
        "\n",
        "    # Method to display book information\n",
        "    def display_info(self):\n",
        "        status = \"Available\" if self.__is_available else \"Unavailable\"\n",
        "        print(f\"Book Name: {self.__book_name}\")\n",
        "        print(f\"Author: {self.__author}\")\n",
        "        print(f\"Status: {status}\")\n",
        "\n",
        "# Testing the LibraryBook class\n",
        "\n",
        "# Creating instances of LibraryBook\n",
        "book1 = LibraryBook(\"1984\", \"George Orwell\")\n",
        "book2 = LibraryBook(\"To Kill a Mockingbird\", \"Harper Lee\")\n",
        "\n",
        "# Displaying book information\n",
        "print(\"Book 1 Info:\")\n",
        "book1.display_info()\n",
        "\n",
        "print(\"\\nBook 2 Info:\")\n",
        "book2.display_info()\n",
        "\n",
        "# Borrowing book1\n",
        "print(\"\\nBorrowing Book 1:\")\n",
        "book1.borrow_book()\n",
        "\n",
        "# Trying to borrow book1 again\n",
        "print(\"\\nAttempting to borrow Book 1 again:\")\n",
        "book1.borrow_book()\n",
        "\n",
        "# Returning book1\n",
        "print(\"\\nReturning Book 1:\")\n",
        "book1.return_book()\n",
        "\n",
        "# Displaying updated book information\n",
        "print(\"\\nUpdated Book 1 Info:\")\n",
        "book1.display_info()\n",
        "\n",
        "# Trying to return book1 again\n",
        "print(\"\\nAttempting to return Book 1 again:\")\n",
        "book1.return_book()\n",
        "\n"
      ],
      "metadata": {
        "colab": {
          "base_uri": "https://localhost:8080/"
        },
        "id": "KGowo_6XOUVn",
        "outputId": "ac436bec-2ed7-4b99-ad42-5f99d630769e"
      },
      "execution_count": 30,
      "outputs": [
        {
          "output_type": "stream",
          "name": "stdout",
          "text": [
            "Book 1 Info:\n",
            "Book Name: 1984\n",
            "Author: George Orwell\n",
            "Status: Available\n",
            "\n",
            "Book 2 Info:\n",
            "Book Name: To Kill a Mockingbird\n",
            "Author: Harper Lee\n",
            "Status: Available\n",
            "\n",
            "Borrowing Book 1:\n",
            "Book '1984' borrowed successfully.\n",
            "\n",
            "Attempting to borrow Book 1 again:\n",
            "Sorry, the book '1984' is currently unavailable.\n",
            "\n",
            "Returning Book 1:\n",
            "Book '1984' returned successfully.\n",
            "\n",
            "Updated Book 1 Info:\n",
            "Book Name: 1984\n",
            "Author: George Orwell\n",
            "Status: Available\n",
            "\n",
            "Attempting to return Book 1 again:\n",
            "The book '1984' was not borrowed.\n"
          ]
        }
      ]
    },
    {
      "cell_type": "code",
      "source": [
        "#4.Create a simple banking system using object-oriented concepts in Python. Design classes representing\n",
        "# different types of bank accounts such as savings and checking. Implement methods for deposit, withdraw,\n",
        "# and balance inquiry. Utilize inheritance to manage different account types efficiently.\n",
        "# Tasks\n",
        "# 3 1. Define base class(es) for bank accounts with common attributes and methods\n",
        "class BankAccount:\n",
        "    def __init__(self, account_number, account_holder, balance=0):\n",
        "        self.__account_number = account_number\n",
        "        self.__account_holder = account_holder\n",
        "        self.__balance = balance\n",
        "\n",
        "    # Getter methods\n",
        "    def get_account_number(self):\n",
        "        return self.__account_number\n",
        "\n",
        "    def get_account_holder(self):\n",
        "        return self.__account_holder\n",
        "\n",
        "    def get_balance(self):\n",
        "        return self.__balance\n",
        "\n",
        "    # Method to deposit money\n",
        "    def deposit(self, amount):\n",
        "        if amount > 0:\n",
        "            self.__balance += amount\n",
        "            print(f\"Deposited {amount}. New balance: {self.__balance}\")\n",
        "        else:\n",
        "            print(\"Deposit amount must be positive.\")\n",
        "\n",
        "    # Method to withdraw money\n",
        "    def withdraw(self, amount):\n",
        "        if 0 < amount <= self.__balance:\n",
        "            self.__balance -= amount\n",
        "            print(f\"Withdrew {amount}. New balance: {self.__balance}\")\n",
        "        else:\n",
        "            print(\"Insufficient balance or invalid withdrawal amount.\")\n",
        "\n",
        "    # Method to display account information\n",
        "    def display_info(self):\n",
        "        print(f\"Account Number: {self.__account_number}\")\n",
        "        print(f\"Account Holder: {self.__account_holder}\")\n",
        "        print(f\"Balance: {self.__balance}\")\n",
        "\n"
      ],
      "metadata": {
        "id": "JN9PzXBwOUZH"
      },
      "execution_count": 31,
      "outputs": []
    },
    {
      "cell_type": "code",
      "source": [
        "# 3 2. Implement subclasses for specific account types (e.g., SavingsAccount, ChecZingAccount)\n",
        "class SavingsAccount(BankAccount):\n",
        "    def __init__(self, account_number, account_holder, balance=0, interest_rate=0.02):\n",
        "        super().__init__(account_number, account_holder, balance)\n",
        "        self.__interest_rate = interest_rate\n",
        "\n",
        "    # Method to add interest\n",
        "    def add_interest(self):\n",
        "        interest = self.get_balance() * self.__interest_rate\n",
        "        self.deposit(interest)\n",
        "        print(f\"Interest added: {interest}. New balance: {self.get_balance()}\")\n",
        "\n",
        "    # Override display_info method to include interest rate\n",
        "    def display_info(self):\n",
        "        super().display_info()\n",
        "        print(f\"Interest Rate: {self.__interest_rate * 100}%\")\n",
        "\n",
        "class CheckingAccount(BankAccount):\n",
        "    def __init__(self, account_number, account_holder, balance=0, overdraft_limit=500):\n",
        "        super().__init__(account_number, account_holder, balance)\n",
        "        self.__overdraft_limit = overdraft_limit\n",
        "\n",
        "    # Override withdraw method to include overdraft\n",
        "    def withdraw(self, amount):\n",
        "        if 0 < amount <= self.get_balance() + self.__overdraft_limit:\n",
        "            self._BankAccount__balance -= amount  # Accessing private attribute of the parent class\n",
        "            print(f\"Withdrew {amount}. New balance: {self.get_balance()}\")\n",
        "        else:\n",
        "            print(\"Insufficient funds, even with overdraft.\")\n",
        "\n",
        "    # Override display_info method to include overdraft limit\n",
        "    def display_info(self):\n",
        "        super().display_info()\n",
        "        print(f\"Overdraft Limit: {self.__overdraft_limit}\")\n",
        "\n",
        "# 3 3. Provide methods for deposit, withdraw, and balance inquiry in each subclass\n",
        "# Creating instances of SavingsAccount and CheckingAccount\n",
        "savings = SavingsAccount(\"SA001\", \"Alice\", 1000)\n",
        "checking = CheckingAccount(\"CA001\", \"Bob\", 500)\n",
        "\n",
        "# Displaying initial account information\n",
        "print(\"Savings Account Info:\")\n",
        "savings.display_info()\n",
        "\n",
        "print(\"\\nChecking Account Info:\")\n",
        "checking.display_info()\n",
        "\n",
        "# Performing transactions\n",
        "print(\"\\nDepositing into Savings Account:\")\n",
        "savings.deposit(500)\n",
        "\n",
        "print(\"\\nWithdrawing from Checking Account:\")\n",
        "checking.withdraw(700)\n",
        "\n",
        "print(\"\\nAdding Interest to Savings Account:\")\n",
        "savings.add_interest()\n",
        "\n",
        "print(\"\\nWithdrawing from Checking Account with Overdraft:\")\n",
        "checking.withdraw(100)\n",
        "\n",
        "# Displaying updated account information\n",
        "print(\"\\nUpdated Savings Account Info:\")\n",
        "savings.display_info()\n",
        "\n",
        "print(\"\\nUpdated Checking Account Info:\")\n",
        "checking.display_info()\n",
        "\n",
        "# 3 4. Test the banking system by creating instances of different account types and performing transactions."
      ],
      "metadata": {
        "colab": {
          "base_uri": "https://localhost:8080/"
        },
        "id": "BnGyWOUgeYOk",
        "outputId": "92545968-e1d2-4db6-bd68-b193d6890747"
      },
      "execution_count": 32,
      "outputs": [
        {
          "output_type": "stream",
          "name": "stdout",
          "text": [
            "Savings Account Info:\n",
            "Account Number: SA001\n",
            "Account Holder: Alice\n",
            "Balance: 1000\n",
            "Interest Rate: 2.0%\n",
            "\n",
            "Checking Account Info:\n",
            "Account Number: CA001\n",
            "Account Holder: Bob\n",
            "Balance: 500\n",
            "Overdraft Limit: 500\n",
            "\n",
            "Depositing into Savings Account:\n",
            "Deposited 500. New balance: 1500\n",
            "\n",
            "Withdrawing from Checking Account:\n",
            "Withdrew 700. New balance: -200\n",
            "\n",
            "Adding Interest to Savings Account:\n",
            "Deposited 30.0. New balance: 1530.0\n",
            "Interest added: 30.0. New balance: 1530.0\n",
            "\n",
            "Withdrawing from Checking Account with Overdraft:\n",
            "Withdrew 100. New balance: -300\n",
            "\n",
            "Updated Savings Account Info:\n",
            "Account Number: SA001\n",
            "Account Holder: Alice\n",
            "Balance: 1530.0\n",
            "Interest Rate: 2.0%\n",
            "\n",
            "Updated Checking Account Info:\n",
            "Account Number: CA001\n",
            "Account Holder: Bob\n",
            "Balance: -300\n",
            "Overdraft Limit: 500\n"
          ]
        }
      ]
    },
    {
      "cell_type": "code",
      "source": [
        "#5.Write a Python program that models different animals and their sounds. Design a base class called\n",
        "# `Animal` with a method `make_sound()`. Create subclasses like `Dog` and `Cat` that override the\n",
        "# `make_sound()` method to produce appropriate sounds.\n",
        "# Tasks\n",
        "# 3 1. Define the `Animal` class with  method `maZe_sound()\n",
        "class Animal:\n",
        "    def make_sound(self):\n",
        "        raise NotImplementedError(\"Subclass must implement abstract method\")\n",
        "\n",
        "# 3 2. Create subclasses `Dog` and `Cat` that override the `maZe_sound()` methodY\n",
        "class Dog(Animal):\n",
        "    def make_sound(self):\n",
        "        return \"Woof! Woof!\"\n",
        "\n",
        "class Cat(Animal):\n",
        "    def make_sound(self):\n",
        "        return \"Meow! Meow!\"\n",
        "\n",
        "# 3 3. Implement the sound generation logic for each subclassY\n",
        "# 3 4. Test the program by creating instances of `Dog` and `Cat` and calling the `maZe_sound()` method.\n",
        "# Testing the Animal subclasses\n",
        "\n",
        "# Creating instances of Dog and Cat\n",
        "dog = Dog()\n",
        "cat = Cat()\n",
        "\n",
        "# Calling the make_sound() method for each instance\n",
        "print(\"Dog Sound:\", dog.make_sound())\n",
        "print(\"Cat Sound:\", cat.make_sound())\n"
      ],
      "metadata": {
        "colab": {
          "base_uri": "https://localhost:8080/"
        },
        "id": "VG0a7iVZeYRh",
        "outputId": "9f1bd130-d7ce-45fc-8557-98d6d816d346"
      },
      "execution_count": 33,
      "outputs": [
        {
          "output_type": "stream",
          "name": "stdout",
          "text": [
            "Dog Sound: Woof! Woof!\n",
            "Cat Sound: Meow! Meow!\n"
          ]
        }
      ]
    },
    {
      "cell_type": "code",
      "source": [],
      "metadata": {
        "id": "J3lrYe5HfJYv"
      },
      "execution_count": null,
      "outputs": []
    },
    {
      "cell_type": "code",
      "source": [],
      "metadata": {
        "id": "BtytBMNofJcK"
      },
      "execution_count": null,
      "outputs": []
    },
    {
      "cell_type": "code",
      "source": [],
      "metadata": {
        "id": "qNRqqL2hfJfw"
      },
      "execution_count": null,
      "outputs": []
    },
    {
      "cell_type": "code",
      "source": [],
      "metadata": {
        "id": "g0akXExleYUH"
      },
      "execution_count": null,
      "outputs": []
    },
    {
      "cell_type": "code",
      "source": [],
      "metadata": {
        "id": "EX2w0P8YeYX4"
      },
      "execution_count": null,
      "outputs": []
    },
    {
      "cell_type": "code",
      "source": [],
      "metadata": {
        "id": "L7r8brYeMqJU"
      },
      "execution_count": null,
      "outputs": []
    },
    {
      "cell_type": "code",
      "source": [],
      "metadata": {
        "id": "aM5vQG4WLWkF"
      },
      "execution_count": null,
      "outputs": []
    },
    {
      "cell_type": "code",
      "source": [],
      "metadata": {
        "id": "J1hI38zZY6ov"
      },
      "execution_count": null,
      "outputs": []
    },
    {
      "cell_type": "code",
      "source": [],
      "metadata": {
        "id": "QIAsDO9LY6sO"
      },
      "execution_count": null,
      "outputs": []
    }
  ]
}